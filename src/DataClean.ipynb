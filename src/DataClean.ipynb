{
 "cells": [
  {
   "cell_type": "code",
   "execution_count": 13,
   "id": "0fab229d-0a8d-4f49-af4d-560474f22c3e",
   "metadata": {
    "tags": []
   },
   "outputs": [],
   "source": [
    "!pip install -q -U datasets\n",
    "!pip install -q -U transformers"
   ]
  },
  {
   "cell_type": "code",
   "execution_count": 47,
   "id": "2687150d-9c03-4c37-a22c-7e832ed5a251",
   "metadata": {
    "tags": []
   },
   "outputs": [],
   "source": [
    "import glob \n",
    "from datasets import load_dataset\n",
    "\n",
    "def loadDataSet():\n",
    "    text_files = glob.glob('../trainData/*train_data.csv')\n",
    "    dataset_files = text_files\n",
    "    # dataset_name = \"../trainData/*train_data.csv\"\n",
    "    dataset = load_dataset(\"csv\", data_files=dataset_files, split=\"train\")\n",
    "    return dataset"
   ]
  },
  {
   "cell_type": "code",
   "execution_count": 49,
   "id": "c887eb36-160c-43ba-8809-7de9bb9ec37c",
   "metadata": {
    "tags": []
   },
   "outputs": [
    {
     "data": {
      "application/vnd.jupyter.widget-view+json": {
       "model_id": "cfcc314496e2454d9bf40f2381b0a85a",
       "version_major": 2,
       "version_minor": 0
      },
      "text/plain": [
       "Generating train split: 0 examples [00:00, ? examples/s]"
      ]
     },
     "metadata": {},
     "output_type": "display_data"
    },
    {
     "name": "stdout",
     "output_type": "stream",
     "text": [
      "total rows in dataset: 2236\n"
     ]
    },
    {
     "data": {
      "application/vnd.jupyter.widget-view+json": {
       "model_id": "12f84ba1539f468593c7824cb43599f8",
       "version_major": 2,
       "version_minor": 0
      },
      "text/plain": [
       "Filter:   0%|          | 0/2236 [00:00<?, ? examples/s]"
      ]
     },
     "metadata": {},
     "output_type": "display_data"
    },
    {
     "data": {
      "application/vnd.jupyter.widget-view+json": {
       "model_id": "64b37d3940d849fba8396ee7fda9e730",
       "version_major": 2,
       "version_minor": 0
      },
      "text/plain": [
       "Flattening the indices:   0%|          | 0/2012 [00:00<?, ? examples/s]"
      ]
     },
     "metadata": {},
     "output_type": "display_data"
    },
    {
     "name": "stdout",
     "output_type": "stream",
     "text": [
      "total rows in dataset after filtering: 2012\n"
     ]
    }
   ],
   "source": [
    "\n",
    "def form_data(example):    \n",
    "    test_str2 = example['Tamil Answer']\n",
    "    test_str1 = example['Tamil Question']\n",
    "    if (test_str1 is None): \n",
    "        test_str1 = \"\"\n",
    "    data = test_str1 + \" \\n\" + test_str2\n",
    "    data\n",
    "    return data\n",
    "    \n",
    "def isRowValid(example):\n",
    "    test_str2 = example['Tamil Answer']\n",
    "    test_str1 = example['Tamil Question']\n",
    "    if (example is None) or (test_str2 is None) or (len(test_str2.strip()) == 0):\n",
    "        return False\n",
    "    if (example is None) or (test_str1 is None) or (len(test_str1.strip()) == 0):\n",
    "        return False\n",
    "    return True\n",
    "        \n",
    "def updatedDataset(dataset):\n",
    "    new_column = []\n",
    "    for x in dataset:\n",
    "        new_column.append(form_data(x))\n",
    "    dataset = dataset.add_column('data', new_column)        \n",
    "    return dataset\n",
    "\n",
    "def getDataSet():\n",
    "    dataset = loadDataSet()\n",
    "    print ( \"total rows in dataset: \"+ str(len(dataset)))\n",
    "    filtered_dataset = dataset.filter(isRowValid)    \n",
    "    filtered_dataset = updatedDataset(filtered_dataset)\n",
    "    print ( \"total rows in dataset after filtering: \"+ str(len(filtered_dataset)))\n",
    "    return filtered_dataset\n",
    "\n",
    "dataset = getDataSet()"
   ]
  },
  {
   "cell_type": "code",
   "execution_count": 51,
   "id": "154d6f2f-8325-4241-8fb1-eaa692123b2e",
   "metadata": {
    "tags": []
   },
   "outputs": [
    {
     "data": {
      "application/vnd.jupyter.widget-view+json": {
       "model_id": "490f935235394a01b1361bb7c594f925",
       "version_major": 2,
       "version_minor": 0
      },
      "text/plain": [
       "Applying chat template to train_sft:   0%|          | 0/2012 [00:00<?, ? examples/s]"
      ]
     },
     "metadata": {},
     "output_type": "display_data"
    },
    {
     "data": {
      "text/plain": [
       "Dataset({\n",
       "    features: ['English Question', 'Tamil Question', 'Tamil Answer', 'data', 'text'],\n",
       "    num_rows: 2012\n",
       "})"
      ]
     },
     "execution_count": 51,
     "metadata": {},
     "output_type": "execute_result"
    }
   ],
   "source": [
    "def apply_chat_template(\n",
    "    example,\n",
    "    # tokenizer,\n",
    "):\n",
    "    # messages = example[\"messages\"]\n",
    "    test_str2 = example['Tamil Answer']\n",
    "    test_str1 = example['Tamil Question']\n",
    "    data = []\n",
    "    data.append({\"role\": \"system\", \"content\": \"\"})\n",
    "    data.append({\"role\": \"user\", \"content\": test_str1})\n",
    "    data.append({\"role\": \"assistant\", \"content\": test_str2})\n",
    "    \n",
    "    # Add an empty system message if there is none\n",
    "    # if messages[0][\"role\"] != \"system\":\n",
    "    #     messages.insert(0, {\"role\": \"system\", \"content\": \"\"})\n",
    "    # example[\"text\"] = tokenizer.apply_chat_template(\n",
    "    #     messages, tokenize=False, add_generation_prompt=False)\n",
    "    example[\"text\"] = data\n",
    "    return example\n",
    "\n",
    "processed_train_dataset = dataset.map(\n",
    "    apply_chat_template,\n",
    "    #fn_kwargs={\"tokenizer\": tokenizer},\n",
    "    #num_proc=10,\n",
    "    #remove_columns=column_names,\n",
    "    desc=\"Applying chat template to train_sft\",\n",
    ")\n",
    "processed_train_dataset"
   ]
  },
  {
   "cell_type": "code",
   "execution_count": 53,
   "id": "2948121d-bc2c-463a-a426-fb864bdac018",
   "metadata": {
    "tags": []
   },
   "outputs": [
    {
     "data": {
      "text/plain": [
       "['எழுத்துக்கள் எல்லாம் அகரத்தை அடிப்படையாக கொண்டிருக்கின்றன. அதுபோல உலகம் கடவுளை அடிப்படையாக கொண்டிருக்கிறது.',\n",
       " ' மழை பெய்ய உலகம் வாழ்ந்து வருவதால், மழையானது உலகத்து வாழும் உயிர்களுக்கு அமிழ்தம் என்று உணரத்தக்கதாகும்',\n",
       " 'ஒழுக்கத்தில் நிலைத்து நின்று பற்று விட்டவர்களின் பெருமையைச் சிறந்ததாக போற்றி கூறுவதே நூல்களின் துணிவாகும்.',\n",
       " 'அறம் சிறப்பையும் அளிக்கும்: செல்வத்தையும் அளிக்கும்: ஆகையால் உயிர்க்கு அத்தகைய அறத்தை விட நன்மையானது வேறு யாது?',\n",
       " 'இல்லறத்தில் வாழ்பவனாகச் சொல்லப்படுகிறவன் அறத்தின் இயல்பை உடைய மூவருக்கும் நல்வழியில் நிலை பெற்ற துணையாவான்.']"
      ]
     },
     "execution_count": 53,
     "metadata": {},
     "output_type": "execute_result"
    }
   ],
   "source": [
    "processed_train_dataset['Tamil Answer'][0:5]"
   ]
  },
  {
   "cell_type": "code",
   "execution_count": 61,
   "id": "50027c05-64d3-4494-9c6e-67d7a2c6ef4f",
   "metadata": {
    "tags": []
   },
   "outputs": [
    {
     "data": {
      "text/plain": [
       "[[{'content': '', 'role': 'system'},\n",
       "  {'content': 'திருக்கோவையாருக்கு வழங்கப்பட்ட அடைமொழி என்ன?', 'role': 'user'},\n",
       "  {'content': 'இராசாக் கோவை', 'role': 'assistant'}],\n",
       " [{'content': '', 'role': 'system'},\n",
       "  {'content': 'குறவஞ்சிக்கு வழங்கப்பட்ட அடைமொழிகள் என்னென்ன?', 'role': 'user'},\n",
       "  {'content': 'குறம், குறவஞ்சி நாடகம், குறவஞ்சி நாட்டியம்',\n",
       "   'role': 'assistant'}],\n",
       " [{'content': '', 'role': 'system'},\n",
       "  {'content': 'உலாவுக்கு வழங்கப்பட்ட அடைமொழி என்ன?', 'role': 'user'},\n",
       "  {'content': 'உலாப்புறம்', 'role': 'assistant'}],\n",
       " [{'content': '', 'role': 'system'},\n",
       "  {'content': 'தாயுமானவர் பாடல்களுக்கு வழங்கப்பட்ட அடைமொழி என்ன?',\n",
       "   'role': 'user'},\n",
       "  {'content': 'தமிழ்மொழியின் உபநிடதம்', 'role': 'assistant'}],\n",
       " [{'content': '', 'role': 'system'},\n",
       "  {'content': '\"பிரித்தெழுதுக\" என்ற கருத்து தமிழில் என்ன?', 'role': 'user'},\n",
       "  {'content': '\"பிரித்தெழுதுக\" என்பது ஒரு சொல்லை அதை உருவாக்கும் தனித்தனி எழுத்துகளாக பிரிக்கும் செயல்முறையைக் குறிக்கிறது. இது தமிழ் மொழி கற்றல் மற்றும் TNPSC போன்ற போட்டித் தேர்வுகளுக்கு முக்கியமானது.',\n",
       "   'role': 'assistant'}],\n",
       " [{'content': '', 'role': 'system'},\n",
       "  {'content': '\"பிரித்தெழுதுக\" எவ்வாறு நடைமுறையில் பயன்படுத்தப்படுகிறது?',\n",
       "   'role': 'user'},\n",
       "  {'content': '\"பிரித்தெழுதுக\" பின்வரும் சூழ்நிலைகளில் பயன்படுத்தப்படலாம்:',\n",
       "   'role': 'assistant'}],\n",
       " [{'content': '', 'role': 'system'},\n",
       "  {'content': 'தமிழ் இலக்கணத்தில் நான்கு முக்கிய வினை வகைகள் என்னென்ன?',\n",
       "   'role': 'user'},\n",
       "  {'content': 'தமிழ் இலக்கணத்தில் வினை வகைகள் நான்கு: வினைமுற்று, வினையெச்சம், வினையாலணையும் பெயர், மற்றும் தொழிற்பெயர்.',\n",
       "   'role': 'assistant'}],\n",
       " [{'content': '', 'role': 'system'},\n",
       "  {'content': '1. வினைமுற்று', 'role': 'user'},\n",
       "  {'content': \"வினைமுற்று என்பது ஒரு செயலைக் குறிக்கிறது. இது ஒரு காலத்தையும் ஒரு எண்ணையும் குறிக்கிறது. * வினைமுற்று என்பது 'த்', 'ஆன்', 'அன்' போன்ற விகுதிகளுடன் முடியும்.\\n* எடுத்துக்காட்டு: படித்தான்\",\n",
       "   'role': 'assistant'}],\n",
       " [{'content': '', 'role': 'system'},\n",
       "  {'content': '2. வினையெச்சம்', 'role': 'user'},\n",
       "  {'content': \"வினையெச்சம் என்பது ஒரு செயலைக் குறிக்கும் ஆனால் ஒரு காலத்தையும் எண்ணையும் குறிக்காது. இது ஒரு வினைச்சொல்லை மற்றொரு வினைச்சொல்லுடன் இணைக்கிறது.\\n* எடுத்துக்காட்டு: படித்து வந்தான்\\n* வினையெச்சம் 'உ', 'து', 'ஆ', 'வது' போன்ற விகுதிகளுடன் முடியும்.\",\n",
       "   'role': 'assistant'}],\n",
       " [{'content': '', 'role': 'system'},\n",
       "  {'content': '3. வினையாலணையும் பெயர்', 'role': 'user'},\n",
       "  {'content': \"வினையாலணையும் பெயர் என்பது ஒரு வினைச்சொல்லைப் போலவே செயல்பாட்டைக் குறிக்கும், ஆனால் அது ஒரு பெயர்ச்சொல்லாக செயல்படுகிறது.\\n* வினையாலணையும் பெயர் 'வர்', 'வோர்', 'வோர்', 'வோர்' போன்ற விகுதிகளுடன் முடியும்.\\n* எடுத்துக்காட்டு: படித்தோர்\",\n",
       "   'role': 'assistant'}],\n",
       " [{'content': '', 'role': 'system'},\n",
       "  {'content': '4. தொழிற்பெயர்', 'role': 'user'},\n",
       "  {'content': \"தொழிற்பெயர் என்பது ஒரு செயலைப் பெயராக மாற்றுகிறது.\\n* தொழிற்பெயர் 'பு', 'அல்', 'அம்', 'ஐ', 'சி' போன்ற விகுதிகளுடன் முடியும்.\\n* எடுத்துக்காட்டு: படிப்பு\",\n",
       "   'role': 'assistant'}],\n",
       " [{'content': '', 'role': 'system'},\n",
       "  {'content': 'abc', 'role': 'user'},\n",
       "  {'content': 'எதிர்ச்சொல்:எதிர்ச்சொல்', 'role': 'assistant'}]]"
      ]
     },
     "execution_count": 61,
     "metadata": {},
     "output_type": "execute_result"
    }
   ],
   "source": [
    "processed_train_dataset['text'][2000:2012]"
   ]
  },
  {
   "cell_type": "code",
   "execution_count": 39,
   "id": "1f91d747-e3e2-4908-97d5-655421fe8f6d",
   "metadata": {
    "tags": []
   },
   "outputs": [
    {
     "data": {
      "text/plain": [
       "'\\nsdfsdfs\\nsdfsdf\\nfsf\\n'"
      ]
     },
     "execution_count": 39,
     "metadata": {},
     "output_type": "execute_result"
    }
   ],
   "source": []
  },
  {
   "cell_type": "code",
   "execution_count": null,
   "id": "a9e4d105-8bf3-40fd-b8c0-da93dea2e095",
   "metadata": {},
   "outputs": [],
   "source": []
  }
 ],
 "metadata": {
  "kernelspec": {
   "display_name": "Python 3 (ipykernel)",
   "language": "python",
   "name": "python3"
  },
  "language_info": {
   "codemirror_mode": {
    "name": "ipython",
    "version": 3
   },
   "file_extension": ".py",
   "mimetype": "text/x-python",
   "name": "python",
   "nbconvert_exporter": "python",
   "pygments_lexer": "ipython3",
   "version": "3.11.7"
  }
 },
 "nbformat": 4,
 "nbformat_minor": 5
}
